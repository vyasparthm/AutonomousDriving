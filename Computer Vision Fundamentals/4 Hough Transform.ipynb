{
 "cells": [
  {
   "cell_type": "markdown",
   "metadata": {},
   "source": [
    "# Hough Transform\n",
    "\n",
    "In Hough space, I can represent my \"x vs. y\" line as a point in \"m vs. b\" instead. The Hough Transform is just the conversion from image space to Hough space. So, the characterization of a line in image space will be a single point at the position (m, b) in Hough space. \n",
    "<br>\n",
    "\n",
    "Basically, a line in Image space will be a point in Hough space and vice versa.\n",
    "\n",
    "<img src ='../img/houghvsimg.png'/>\n",
    "\n",
    "<br>\n",
    "\n",
    "OpenCV has a function for HoughLines and below is the call:\n",
    "<br>\n",
    "<code>lines = cv2.HoughLinesP(masked_edges, rho, theta, threshold, np.array([]),min_line_length, max_line_gap)</code>\n",
    "\n",
    "for a brief overview on how Hough transform works, please take a look at this [video](https://youtu.be/4zHbI-fFIlI)"
   ]
  },
  {
   "cell_type": "code",
   "execution_count": 30,
   "metadata": {},
   "outputs": [
    {
     "data": {
      "image/png": "[encoded data removed]",
      "text/plain": [
       "<Figure size 432x288 with 1 Axes>"
      ]
     },
     "metadata": {
      "needs_background": "light"
     },
     "output_type": "display_data"
    }
   ],
   "source": [
    "# Lets start with required imports\n",
    "\n",
    "import matplotlib.pyplot as plt\n",
    "import matplotlib.image as mpimg\n",
    "import numpy as np\n",
    "import cv2\n",
    "\n",
    "\n",
    "#Lets read and apply grayscale on image\n",
    "image = mpimg.imread('../img/exit-ramp.jpg')\n",
    "gray = cv2.cvtColor(image,cv2.COLOR_RGB2GRAY)\n",
    "\n",
    "\n",
    "# Define Kernel Size and Gaussian smoothing\n",
    "kernel_size = 5\n",
    "blur_gray = cv2.GaussianBlur(gray,(kernel_size,kernel_size),0)\n",
    "\n",
    "# Define params for Canny and apply calues\n",
    "low_threshold = 50\n",
    "high_threshold = 150\n",
    "masked_edges = cv2.Canny(blur_gray,low_threshold,high_threshold)\n",
    "\n",
    "\n",
    "# Define Hough Transform Parameters here and make a blank the same size as image to draw on\n",
    "\n",
    "rho = 2\n",
    "theta = np.pi/180\n",
    "threshold = 15\n",
    "min_line_length = 40\n",
    "max_line_gap = 21\n",
    "line_image = np.copy(image)*0 # to create blank where we'll draw lines\n",
    "\n",
    "\n",
    "# Run Hough transform on detected Image\n",
    "lines =  cv2.HoughLinesP(masked_edges, rho, theta, threshold, np.array([]),min_line_length, max_line_gap)\n",
    "\n",
    "# Iterate over the output lines and draw lines on Blank\n",
    "\n",
    "for line in lines:\n",
    "    for x1,y1,x2,y2 in line:\n",
    "        cv2.line(line_image,(x1,y1),(x2,y2),(139,0,0),10)\n",
    "        \n",
    "# Create a Color binary image to combine with line image\n",
    "color_edges = np.dstack((masked_edges,masked_edges,masked_edges))\n",
    "\n",
    "#Draw the lines on the edge image\n",
    "\n",
    "combo = cv2.addWeighted(color_edges,0.8,line_image,1,0)\n",
    "plt.imshow(combo, interpolation='nearest',aspect= 'auto')\n",
    "\n",
    "plt.imsave('../img/Hough.jpg',combo)"
   ]
  }
 ],
 "metadata": {
  "kernelspec": {
   "display_name": "Python 3",
   "language": "python",
   "name": "python3"
  },
  "language_info": {
   "codemirror_mode": {
    "name": "ipython",
    "version": 3
   },
   "file_extension": ".py",
   "mimetype": "text/x-python",
   "name": "python",
   "nbconvert_exporter": "python",
   "pygments_lexer": "ipython3",
   "version": "3.7.4"
  }
 },
 "nbformat": 4,
 "nbformat_minor": 2
}
