{
 "cells": [
  {
   "cell_type": "markdown",
   "metadata": {},
   "source": [
    "## Skip the Sliding Windows\n",
    "\n",
    "So now that you are able to analyze an image and find a sliding window to focus where your lane line is moving, how about I tell you we can do this even better?\n",
    "\n",
    "Starting the whole search of lane lines at each frame is nice for an experiment but in Real-Time, this doesn't seem to be a good idea when your Autonomous vehicle is dealing with a bunch of other variables like: keeping track of other vehicles, speed, steering, staying in lane, changing acceleration, applying brakes and many more. We don't want to load the computer with one more detail!\n",
    "\n",
    "There is an efficient way of doing a search in an input image/video. Lets say we identify the first frame and then do a highly targeted search in the next frame.\n",
    "In a simpler manner: Lane lines don't move so much from frame to frame, so lets take an image and identify a frame then search an area close to already identified lane marking and see something like below image\n",
    "\n",
    "<img src='./img/Skip-the-windows.png'/><br>\n",
    "\n",
    "To implement this, grab values of `left_lane_inds` and `right_lane_inds` from the previous notebook. These basically hold pixel values contained within the boundaries of a given sliding windows.\n",
    "\n",
    "To implement this , you'll want to grab only those pixels with x-values that are +/- your margin from your polynomial lines. **Note** that you'll only need to implement `left_lane_inds` and `right_lane_inds` most of the surrounding code, ignoring iterating through the windows, is the same as before!\n",
    "\n"
   ]
  },
  {
   "cell_type": "code",
   "execution_count": 2,
   "metadata": {},
   "outputs": [
    {
     "data": {
      "image/png": "[encoded data removed]",
      "text/plain": [
       "<Figure size 432x288 with 1 Axes>"
      ]
     },
     "metadata": {
      "needs_background": "light"
     },
     "output_type": "display_data"
    }
   ],
   "source": [
    "import cv2\n",
    "import numpy as np\n",
    "import matplotlib.image as mpimg\n",
    "import matplotlib.pyplot as plt\n",
    "\n",
    "# Load our image\n",
    "binary_warped = mpimg.imread('./img/warped-example.jpg')\n",
    "\n",
    "\n",
    "# Polynomial fit values from the previous frame\n",
    "# Make sure to grab the actual values from the previous step in your project!\n",
    "left_fit = np.array([ 2.13935315e-04, -3.77507980e-01,  4.76902175e+02])\n",
    "right_fit = np.array([4.17622148e-04, -4.93848953e-01,  1.11806170e+03])\n",
    "\n",
    "# Define the function fit_poly\n",
    "def fit_poly(img_shape, leftx, lefty, rightx, righty):\n",
    "    # Fit a second order polynomial to each with np.polyfit()\n",
    "    left_fit = np.polyfit(lefty, leftx, 2)\n",
    "    right_fit = np.polyfit(righty, rightx, 2)\n",
    "    \n",
    "    # Generate x and y values for plotting\n",
    "    ploty = np.linspace(0,img_shape[0]-1, img_shape[0])\n",
    "    try:\n",
    "        left_fitx = left_fit[0]*ploty**2 + left_fit[1]*ploty + left_fit[2]\n",
    "        right_fitx = right_fit[0]*ploty**2 + right_fit[1]*ploty + right_fit[2]\n",
    "    except TypeError:\n",
    "        # Avoids an error if `left` and `right_fit` are still none or incorrect\n",
    "        print('The function failed to fit a line!')\n",
    "        left_fitx = 1*ploty**2 + 1*ploty\n",
    "        right_fitx = 1*ploty**2 + 1*ploty\n",
    "    return left_fitx, right_fitx, ploty\n",
    "\n",
    "# Lets Define a function to search_around_poly\n",
    "def search_around_poly(binary_warped):\n",
    "    # Define Margin\n",
    "    margin = 100 \n",
    "    \n",
    "    # Get activated Pixels\n",
    "    nonzero = binary_warped.nonzero()\n",
    "    nonzeroy = np.array(nonzero[0])\n",
    "    nonzerox = np.array(nonzero[1])\n",
    "    \n",
    "    \n",
    "    ### Set the area of search based on activated x-values \n",
    "    ### within the +/- margin of our polynomial function \n",
    "    \n",
    "    left_lane_inds = ((nonzerox > (left_fit[0]*(nonzeroy**2) + left_fit[1]*nonzeroy + left_fit[2]- margin)) & (nonzerox < (left_fit[0]*(nonzeroy**2) + left_fit[1]*nonzeroy + left_fit[2] + margin)))\n",
    "    right_lane_inds = ((nonzerox > (right_fit[0]*(nonzeroy**2) + right_fit[1]*nonzeroy + right_fit[2] - margin)) & (nonzerox < (right_fit[0]*(nonzeroy**2) + right_fit[1]*nonzeroy + right_fit[2] + margin)))\n",
    "    \n",
    "    # Extract left and right line pixel positions\n",
    "    leftx = nonzerox[left_lane_inds]\n",
    "    lefty = nonzeroy[left_lane_inds]\n",
    "    rightx = nonzerox[right_lane_inds]\n",
    "    righty = nonzeroy[right_lane_inds]\n",
    "    \n",
    "    # Fit nea polynomials\n",
    "    left_fitx, right_fitx, ploty = fit_poly(binary_warped.shape, leftx, lefty, rightx, righty)\n",
    "    \n",
    "    # Create an image to draw on and image to show the selection window\n",
    "    out_img = np.dstack((binary_warped, binary_warped, binary_warped))*255\n",
    "    window_img = np.zeros_like(out_img)\n",
    "    \n",
    "    # Pour colors in left and right parts of image\n",
    "    out_img[nonzeroy[left_lane_inds], nonzerox[left_lane_inds]] =[255,0,0]\n",
    "    out_img[nonzeroy[right_lane_inds], nonzerox[right_lane_inds]] =[0,0,255]\n",
    "    \n",
    "    # Generate a polygone to illustrate the search window area and recast x & y points into usable cv2.fillpoly() format\n",
    "    left_line_window1 = np.array([np.transpose(np.vstack([left_fitx- margin, ploty]))])\n",
    "    left_line_window2 = np.array([np.flipud(np.transpose(np.vstack([left_fitx+margin,ploty])))])\n",
    "    left_line_pts = np.hstack((left_line_window1, left_line_window2))\n",
    "    \n",
    "    right_line_window1 = np.array([np.transpose(np.vstack([right_fitx - margin,ploty]))])\n",
    "    right_line_window2 = np.array([np.flipud(np.transpose(np.vstack([right_fitx+margin,ploty])))])\n",
    "    right_line_pts = np.hstack((right_line_window1, right_line_window2))\n",
    "    \n",
    "    # Draw the lane on warped blank image\n",
    "    cv2.fillPoly(window_img, np.int_([left_line_pts]),(0,255,0))\n",
    "    cv2.fillPoly(window_img,np.int_([right_line_pts]),(0,255,0))\n",
    "    result = cv2.addWeighted(out_img,1,window_img,0.3,0)\n",
    "    \n",
    "    # Plot the polynomial lines on the image\n",
    "    plt.plot(left_fitx,ploty, color = 'white')\n",
    "    plt.plot(right_fitx,ploty, color = 'white')\n",
    "    \n",
    "    return result\n",
    "\n",
    "result = search_around_poly(binary_warped)\n",
    "plt.imshow(result)"
   ]
  },
  {
   "cell_type": "markdown",
   "metadata": {},
   "source": [
    "Fitting on Large Curves\n",
    "\n",
    "One thing to consider in our current implementation of sliding window search is what happens when we arrive at the left or right edge of an image, such as when there is a large curve on the road ahead. If minpix is not achieved (i.e. the curve ran off the image), the starting position of our next window doesn't change, so it is just positioned directly above the previous window. This will repeat for however many windows are left in nwindows, stacking the sliding windows vertically against the side of the image, and likely leading to an imperfect polynomial fit."
   ]
  }
 ],
 "metadata": {
  "kernelspec": {
   "display_name": "Python 3",
   "language": "python",
   "name": "python3"
  },
  "language_info": {
   "codemirror_mode": {
    "name": "ipython",
    "version": 3
   },
   "file_extension": ".py",
   "mimetype": "text/x-python",
   "name": "python",
   "nbconvert_exporter": "python",
   "pygments_lexer": "ipython3",
   "version": "3.7.4"
  }
 },
 "nbformat": 4,
 "nbformat_minor": 2
}
