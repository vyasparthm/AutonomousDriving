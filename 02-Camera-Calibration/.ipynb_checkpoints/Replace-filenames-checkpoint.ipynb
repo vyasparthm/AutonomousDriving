{
 "cells": [
  {
   "cell_type": "code",
   "execution_count": 4,
   "metadata": {},
   "outputs": [
    {
     "name": "stdout",
     "output_type": "stream",
     "text": [
      "2-Calibrating-Camera.ipynb\n",
      "Undistort&Transform.ipynb\n",
      "PerspectiveTransform_StopSign.ipynb\n",
      "1-Finding-Corners.ipynb\n",
      "Replace-filenames.ipynb\n",
      "DistortionCorrection.ipynb\n"
     ]
    }
   ],
   "source": [
    "import glob, re, os\n",
    "\n",
    "\n",
    "for filename in glob.glob('*.*'):\n",
    "    new_name = filename.replace(' ','-')\n",
    "    os.rename(filename,new_name)\n",
    "for filename in glob.glob('*.*'):\n",
    "    print(filename)"
   ]
  },
  {
   "cell_type": "code",
   "execution_count": null,
   "metadata": {},
   "outputs": [],
   "source": []
  }
 ],
 "metadata": {
  "kernelspec": {
   "display_name": "Python 3",
   "language": "python",
   "name": "python3"
  },
  "language_info": {
   "codemirror_mode": {
    "name": "ipython",
    "version": 3
   },
   "file_extension": ".py",
   "mimetype": "text/x-python",
   "name": "python",
   "nbconvert_exporter": "python",
   "pygments_lexer": "ipython3",
   "version": "3.7.4"
  }
 },
 "nbformat": 4,
 "nbformat_minor": 2
}
